{
 "cells": [
  {
   "cell_type": "markdown",
   "metadata": {},
   "source": [
    "# 1. How to build gconcord python package\n",
    "\n",
    "### Step 1: Prepare for the following files:\n",
    "\n",
    " - core.cpp, core.h\n",
    " - wrap.cpp, wrap.h\n",
    " \n",
    "### Step 2: Run the following command in the terminal to generate a shared library."
   ]
  },
  {
   "cell_type": "code",
   "execution_count": null,
   "metadata": {},
   "outputs": [],
   "source": [
    "# g++ -fPIC -I/home/jovyan/Supportpkgs/eigen-3.37/ -O0 -g3 -Wall -c -fmessage-length=0 -MMD -MP -MF\"build/core.d\" -MT\"build/core.o\" -o \"build/core.o\" \"src/core.cpp\"\n",
    "# g++ -fPIC -I/home/jovyan/Supportpkgs/eigen-3.37/ -I/opt/conda/pkgs/python-3.7.3-h5b0a415_0/include/python3.7m/ -O0 -g3 -Wall -c -fmessage-length=0 -MMD -MP -MF\"build/wrap.d\" -MT\"build/wrap.o\" -o \"build/wrap.o\" \"src/wrap.cpp\"\n",
    "# g++ -shared -o \"gconcord/sharedlib.so\"  build/core.o build/wrap.o\n",
    "# python setup.py install\n",
    "# python\n"
   ]
  },
  {
   "cell_type": "markdown",
   "metadata": {},
   "source": [
    "Make sure that the header includes:\n",
    " #include <Eigen/Core>\n",
    " #include <Eigen/Dense>\n",
    " #include <Eigen/Sparse>\n",
    "\n",
    "### Step 3: Write \\_\\_init\\_\\_.py file and gconcord.py file\n",
    "\n",
    "### Step 4: Write setup.py file\n",
    "\n",
    "### Step 5: Run setup.py file to install the package in the shell: python setup.py install.\n",
    "\n",
    "### (Optional) Step 6: Pack the files by *zip -r my_arch.zip my_folder* or *tar -cvzf my_arch.tar.gz my_folder*."
   ]
  },
  {
   "cell_type": "markdown",
   "metadata": {},
   "source": [
    "# 2. A demo for gconcord module"
   ]
  },
  {
   "cell_type": "code",
   "execution_count": 1,
   "metadata": {},
   "outputs": [
    {
     "data": {
      "text/plain": [
       "array([[ 0.884,  0.   ,  0.   ,  0.   , -0.013,  0.   ],\n",
       "       [ 0.   ,  0.512,  0.   ,  0.   ,  0.079,  0.11 ],\n",
       "       [ 0.   ,  0.   ,  0.522,  0.   ,  0.   , -0.021],\n",
       "       [ 0.   ,  0.   ,  0.   ,  0.495,  0.   ,  0.   ],\n",
       "       [-0.013,  0.079,  0.   ,  0.   ,  0.677,  0.05 ],\n",
       "       [ 0.   ,  0.11 , -0.021,  0.   ,  0.05 ,  0.567]])"
      ]
     },
     "execution_count": 1,
     "metadata": {},
     "output_type": "execute_result"
    }
   ],
   "source": [
    "import numpy as np\n",
    "import numpy.ctypeslib as npct\n",
    "import site\n",
    "import os.path\n",
    "import sys\n",
    "from ctypes import c_int, c_double\n",
    "\n",
    "lam1 = 0.2\n",
    "lam2 = 0.1\n",
    "p = 6\n",
    "\n",
    "mean = [0 for i in range(p)]\n",
    "cov = np.diag(np.random.uniform(1, 2, p))\n",
    "x = np.random.multivariate_normal(mean, cov, 30)\n",
    "\n",
    "S = np.cov(x, rowvar =  False)\n",
    "\n",
    "from gconcord import gconcord\n",
    "omega = gconcord.gconcord(S, lam1, lam2)\n",
    "omega.round(3)"
   ]
  },
  {
   "cell_type": "code",
   "execution_count": 22,
   "metadata": {},
   "outputs": [
    {
     "data": {
      "text/plain": [
       "array([[ 1.521808, -0.428711,  0.      ,  0.      ,  0.      ,  0.      ],\n",
       "       [-0.428711,  3.076337,  0.      ,  0.283424,  0.      ,  0.      ],\n",
       "       [ 0.      ,  0.      ,  1.774255, -0.670256,  0.      , -0.100537],\n",
       "       [ 0.      ,  0.283424, -0.670256,  0.956787, -0.094546,  0.      ],\n",
       "       [ 0.      ,  0.      ,  0.      , -0.094546,  1.29497 , -0.536385],\n",
       "       [ 0.      ,  0.      , -0.100537,  0.      , -0.536385,  1.026583]])"
      ]
     },
     "execution_count": 22,
     "metadata": {},
     "output_type": "execute_result"
    }
   ],
   "source": [
    "import numpy as np\n",
    "from gconcord import gconcord\n",
    "x = np.array([[-0.57299987, -1.22881728,  0.24802264,  0.59779037,  0.65240208, 0.89373708],\n",
    "              [ 0.84087632, -0.3383771 ,  0.0794175 ,  0.12716686, -0.97403288,-0.30804861],\n",
    "              [ 0.13180135, -0.35350249,  0.01601294,  0.30258641,  0.19927309, 0.95847883],\n",
    "              [ 0.44658609,  0.12839939, -2.36179304, -3.2224078 , -0.92297796,-1.55831917],\n",
    "              [-1.00001779, -0.08302829,  0.6814525 ,  0.31812938, -0.50994963,-0.39614266],\n",
    "              [-0.3653738 , -0.20899641,  0.33488842,  0.93276311,  0.18263188,-1.58771894],\n",
    "              [ 0.53065032, -0.61604128, -0.67789621,  0.48183976,  0.20767173, 0.20307444],\n",
    "              [-0.13368724, -0.12181896, -0.52881865, -0.91883273, -0.35672818,-0.09414685],\n",
    "              [-1.23926047, -0.02615426, -1.02995135, -0.99250009, -0.89672846,-0.54350656],\n",
    "              [-0.97725987, -0.95743644, -0.47911092, -0.22157924,  1.8751929 , 1.04114063],\n",
    "              [ 1.4149165 ,  0.93326499, -0.09200369,  0.03342898,  1.71023076, 1.82671778],\n",
    "              [ 0.19710653, -0.94066402, -1.15043928,  0.88932662,  0.3247554 ,-0.87942537]])   \n",
    "S = np.cov(x, rowvar =  False)\n",
    "omega = gconcord.gconcord(S, 0.2, 0.05, method = \"ista\")\n",
    "omega.round(6)"
   ]
  },
  {
   "cell_type": "markdown",
   "metadata": {},
   "source": [
    "# 3. A demo for graphical_concord_ module"
   ]
  },
  {
   "cell_type": "code",
   "execution_count": 3,
   "metadata": {},
   "outputs": [
    {
     "data": {
      "text/plain": [
       "array([[ 1.521808, -0.428711,  0.      ,  0.      ,  0.      ,  0.      ],\n",
       "       [-0.428711,  3.076337,  0.      ,  0.283426,  0.      ,  0.      ],\n",
       "       [ 0.      ,  0.      ,  1.774256, -0.670263,  0.      , -0.100538],\n",
       "       [ 0.      ,  0.283426, -0.670263,  0.956788, -0.094547,  0.      ],\n",
       "       [ 0.      ,  0.      ,  0.      , -0.094547,  1.294968, -0.536387],\n",
       "       [ 0.      ,  0.      , -0.100538,  0.      , -0.536387,  1.026582]])"
      ]
     },
     "execution_count": 3,
     "metadata": {},
     "output_type": "execute_result"
    }
   ],
   "source": [
    "from gconcord.graphical_concord_ import GraphicalConcord, GraphicalConcordCV\n",
    "\n",
    "model = GraphicalConcord(lam1 = 0.2, lam2 = 0.05)\n",
    "ans = model.fit(x)\n",
    "ans.omega.round(6)"
   ]
  },
  {
   "cell_type": "code",
   "execution_count": 30,
   "metadata": {},
   "outputs": [],
   "source": [
    "cv = GraphicalConcordCV(method = \"fista\")\n",
    "res = cv.fit(x)"
   ]
  },
  {
   "cell_type": "code",
   "execution_count": 28,
   "metadata": {},
   "outputs": [
    {
     "data": {
      "text/plain": [
       "0.16077637940881462"
      ]
     },
     "execution_count": 28,
     "metadata": {},
     "output_type": "execute_result"
    }
   ],
   "source": [
    "ans.lam1"
   ]
  },
  {
   "cell_type": "code",
   "execution_count": 29,
   "metadata": {},
   "outputs": [
    {
     "data": {
      "text/plain": [
       "2.531320315688186"
      ]
     },
     "execution_count": 29,
     "metadata": {},
     "output_type": "execute_result"
    }
   ],
   "source": [
    "ans.lam2"
   ]
  },
  {
   "cell_type": "code",
   "execution_count": 31,
   "metadata": {},
   "outputs": [
    {
     "data": {
      "text/plain": [
       "0.0"
      ]
     },
     "execution_count": 31,
     "metadata": {},
     "output_type": "execute_result"
    }
   ],
   "source": [
    "np.sum(abs(np.array([round(res.lam1,6) - 0.160776, round(res.lam2,6) - 2.531320])))"
   ]
  }
 ],
 "metadata": {
  "kernelspec": {
   "display_name": "Python 3",
   "language": "python",
   "name": "python3"
  },
  "language_info": {
   "codemirror_mode": {
    "name": "ipython",
    "version": 3
   },
   "file_extension": ".py",
   "mimetype": "text/x-python",
   "name": "python",
   "nbconvert_exporter": "python",
   "pygments_lexer": "ipython3",
   "version": "3.7.3"
  }
 },
 "nbformat": 4,
 "nbformat_minor": 4
}
